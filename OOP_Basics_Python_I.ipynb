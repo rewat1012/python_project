{
 "cells": [
  {
   "cell_type": "markdown",
   "metadata": {
    "id": "VNTD_I6veOuk"
   },
   "source": [
    "# Procedural (C) vs OOP (C++/Java/Python)\n",
    "- Large software can be built in C. e.g: Linux Kernel\n",
    "- OOP: Easier to design, reuse components and build large software\n",
    "- SDE: should know OOP as they will be working in teams building large software\n",
    "- ML & DS roles: Should know the basics to use various modules and extend them when needed. \n",
    "- The true power of OOP and OOD can be undestood when deisgning a large piece of software like a library for plotting\n",
    "\n"
   ]
  },
  {
   "cell_type": "code",
   "execution_count": 11,
   "metadata": {
    "id": "8nozn1XteOuu",
    "outputId": "36f647db-6725-47e7-c2c3-0687653994e5"
   },
   "outputs": [
    {
     "name": "stdout",
     "output_type": "stream",
     "text": [
      "<class 'str'>\n"
     ]
    }
   ],
   "source": [
    "# list comprehsion\n",
    "''.join(random.choice(chars) for i in range(0,6)) "
   ]
  },
  {
   "cell_type": "code",
   "execution_count": 39,
   "metadata": {},
   "outputs": [
    {
     "name": "stdout",
     "output_type": "stream",
     "text": [
      "['seven', 'mentor', 'is', 'the', 'training', 'institue']\n",
      "seven mentor is the training institue\n"
     ]
    }
   ],
   "source": [
    "#c=string.ascii_lowercase\n",
    "#print(c)\n",
    "#a=random.choice(c)\n",
    "#print(a)\n",
    "#l=6\n",
    "#i=0-->v\n",
    "#i=1-->c\n",
    "#i=2-->u\n",
    "#i=3-->j\n",
    "#i=4-->s\n",
    "#i=5-->c\n",
    "a=\"seven mentor is the training institue\"\n",
    "b=a.split(' ')\n",
    "print(b)\n",
    "    \n",
    "c=\" \".join(b)\n",
    "print(c)\n",
    "#shorturl--> \"vcujsc\"\n"
   ]
  },
  {
   "cell_type": "code",
   "execution_count": 2,
   "metadata": {
    "executionInfo": {
     "elapsed": 2801,
     "status": "ok",
     "timestamp": 1615168062090,
     "user": {
      "displayName": "Applied AI Course",
      "photoUrl": "https://lh3.googleusercontent.com/a-/AOh14GjjpR94Niu_srJxsFT_3bp9vDfqrjd2Zx94jDQdMg=s64",
      "userId": "06629147635963609455"
     },
     "user_tz": -330
    },
    "id": "TZHSKGoleOuw"
   },
   "outputs": [],
   "source": [
    "\n",
    "# NON-OOP (a.k.a Procedural) based implementation of a ShortURL System.\n",
    "\n",
    "import random\n",
    "import string\n",
    "\n",
    "d = dict()\n",
    "\n",
    "# given a long URL, get a short URL\n",
    "def getShortURL(longURL):\n",
    "    # length = random value in 6-10\n",
    "    l = random.randint(6,10);\n",
    "    \n",
    "    \n",
    "    # generate random characters into a string of length l\n",
    "    chars = string.ascii_lowercase\n",
    "    shortURL = ''.join(random.choice(chars) for i in range(l)) #refer list comprehension from w3 school\n",
    "    \n",
    "    #go to w3 and search for \"join\" and \"split\"\n",
    "    #split---> string to list\n",
    "    #join--->\n",
    "        \n",
    "    # check if this string is already present in dict d\n",
    "    if shortURL in d:\n",
    "        return getShortURL(longURL);\n",
    "    else:\n",
    "        d[shortURL] = longURL;\n",
    "        \n",
    "    \n",
    "    r = \"https://www.shortURL.com/\"+shortURL\n",
    "    return r;\n",
    "\n",
    "def getLongURL(shortURL):\n",
    "    \n",
    "    # extarct key from URL https://www.MERAURL.com/mxzmuis ---> mxzmuis\n",
    "    k = shortURL[25:];\n",
    "    \n",
    "    \n",
    "    if k in d:\n",
    "        return d[k];\n",
    "    else:\n",
    "        return None;\n",
    "    \n",
    "    "
   ]
  },
  {
   "cell_type": "code",
   "execution_count": 6,
   "metadata": {},
   "outputs": [
    {
     "name": "stdout",
     "output_type": "stream",
     "text": [
      "abcsbs\n",
      "27\n"
     ]
    }
   ],
   "source": [
    "a='https://www.myownurl22.com/abcsbs'\n",
    "print(a[27:])\n",
    "b=\"https://www.myownurl22.com/\"\n",
    "print(len(b))"
   ]
  },
  {
   "cell_type": "markdown",
   "metadata": {
    "id": "lGWiYpZXeOuw"
   },
   "source": [
    "#### Class: datatype \n",
    "#### Object: variable"
   ]
  },
  {
   "cell_type": "code",
   "execution_count": 1,
   "metadata": {
    "id": "zAW62kCweOuw"
   },
   "outputs": [],
   "source": [
    "# Class: group all variables/attributes and functions/methods into a single logical unit\n",
    "import random \n",
    "import string\n",
    "class ShortURL:\n",
    "    \n",
    "    def __init__(self): # constructor; not must, but, good to have;  initialize all attributes here\n",
    "        self.d=dict()\n",
    "        self.e=list()\n",
    "        \n",
    "\n",
    "    # given a long URL, get a short URL\n",
    "    def getShortURL(self, longURL): # first argument to all methods is \"self\" => this object\n",
    "        # length = random value in 6-10\n",
    "        l = random.randint(6,10);\n",
    "        \n",
    "\n",
    "        # generate random characters into a string of length l\n",
    "        chars = string.ascii_lowercase\n",
    "        shortURL = ''.join(random.choice(chars) for i in range(l))\n",
    "        \n",
    "\n",
    "        # check if this string is already present in dict d\n",
    "        if shortURL in self.d:\n",
    "            return getShortURL(longURL);\n",
    "        else:\n",
    "            self.d[shortURL] = longURL;\n",
    "\n",
    "        \n",
    "        r = \"https://www.tinyurl.com/\"+shortURL\n",
    "        return r;\n",
    "\n",
    "    def getLongURL(self, shortURL):\n",
    "\n",
    "       # print(self.d); # print statemnt for debugging\n",
    "        \n",
    "        # extarct key from URL https://www.shortURL.com/mxzmuis ---> mxzmuis\n",
    "        k = shortURL[24:];\n",
    "        \n",
    "\n",
    "        if k in self.d:\n",
    "            return self.d[k];\n",
    "        else:\n",
    "            return None;\n"
   ]
  },
  {
   "cell_type": "code",
   "execution_count": 2,
   "metadata": {
    "id": "FV_Js7j2eOux",
    "outputId": "f53dd5b7-8dd3-428b-c52d-358658002ea8"
   },
   "outputs": [
    {
     "name": "stdout",
     "output_type": "stream",
     "text": [
      "<class '__main__.ShortURL'>\n"
     ]
    }
   ],
   "source": [
    "# Class: datatype/DS & Object: variable of a class\n",
    "s = ShortURL() # constructor being called; memory allocated.\n",
    "\n",
    "print(type(s))\n"
   ]
  },
  {
   "cell_type": "code",
   "execution_count": 3,
   "metadata": {},
   "outputs": [
    {
     "data": {
      "text/plain": [
       "'https://www.tinyurl.com/mssfdlaasj'"
      ]
     },
     "execution_count": 3,
     "metadata": {},
     "output_type": "execute_result"
    }
   ],
   "source": [
    "s.getShortURL(\"https://github.com/Nishesh2115\")\n"
   ]
  },
  {
   "cell_type": "code",
   "execution_count": 4,
   "metadata": {},
   "outputs": [
    {
     "name": "stdout",
     "output_type": "stream",
     "text": [
      "{'mssfdlaasj': 'https://github.com/Nishesh2115'}\n"
     ]
    }
   ],
   "source": [
    "print(s.d)"
   ]
  },
  {
   "cell_type": "code",
   "execution_count": 5,
   "metadata": {},
   "outputs": [
    {
     "data": {
      "text/plain": [
       "'https://www.tinyurl.com/ymcora'"
      ]
     },
     "execution_count": 5,
     "metadata": {},
     "output_type": "execute_result"
    }
   ],
   "source": [
    "s.getShortURL(\"https://github.com/Nishesh121212121212\")"
   ]
  },
  {
   "cell_type": "code",
   "execution_count": 6,
   "metadata": {},
   "outputs": [
    {
     "name": "stdout",
     "output_type": "stream",
     "text": [
      "{'mssfdlaasj': 'https://github.com/Nishesh2115', 'ymcora': 'https://github.com/Nishesh121212121212'}\n"
     ]
    }
   ],
   "source": [
    "print(s.d)"
   ]
  },
  {
   "cell_type": "markdown",
   "metadata": {
    "id": "li3AZKu9eOuy"
   },
   "source": [
    "What does this \"\\__main__\" mean?\n",
    "\n",
    "The script invoked directly is considered to be in the __main__ module. It can be imported and accessed the same way as any other module.\n",
    "\n",
    "\n",
    "#### Modules:\n",
    "[https://www.w3schools.com/python/python_modules.asp]\n",
    "\n",
    "Consider a module to be the same as a code library. A file containing a set of functions you want to include in your application."
   ]
  },
  {
   "cell_type": "code",
   "execution_count": null,
   "metadata": {},
   "outputs": [],
   "source": []
  },
  {
   "cell_type": "code",
   "execution_count": 8,
   "metadata": {
    "id": "oidhGriIeOuy",
    "outputId": "5df3095c-4cd3-4599-9f59-ca8a739393e3"
   },
   "outputs": [
    {
     "name": "stdout",
     "output_type": "stream",
     "text": [
      "https://www.tinyurl.com/wexldsyw\n"
     ]
    }
   ],
   "source": [
    "print(s.getShortURL(\"https://github.com/Nishesh2115\"))\n"
   ]
  },
  {
   "cell_type": "code",
   "execution_count": 7,
   "metadata": {
    "id": "3xeHkykYeOuz",
    "outputId": "cb8d911e-adb4-4456-d8b1-18f8622a7ba3"
   },
   "outputs": [
    {
     "name": "stdout",
     "output_type": "stream",
     "text": [
      "https://github.com/Nishesh121212121212\n"
     ]
    }
   ],
   "source": [
    "print(s.getLongURL(\"https://www.tinyurl.com/ymcora\"))\n"
   ]
  },
  {
   "cell_type": "code",
   "execution_count": null,
   "metadata": {
    "id": "8cAKyHsKeOu0",
    "outputId": "2966604f-668d-4adb-dedb-e421d926fbde"
   },
   "outputs": [],
   "source": []
  },
  {
   "cell_type": "code",
   "execution_count": null,
   "metadata": {
    "id": "VBuoiefteOu0",
    "outputId": "9d45962b-7e9c-4825-9771-7e6c4c61aa9f"
   },
   "outputs": [],
   "source": []
  },
  {
   "cell_type": "code",
   "execution_count": null,
   "metadata": {
    "id": "llGdIwnjeOu1",
    "outputId": "b3ac1e6b-fc61-47ed-cbd7-812c5a72482b"
   },
   "outputs": [
    {
     "name": "stdout",
     "output_type": "stream",
     "text": [
      "<class '__main__.EmptyClass'>\n"
     ]
    }
   ],
   "source": [
    "# No need to have any atributes or methods\n",
    "class EmptyClass:\n",
    "    pass\n",
    "\n",
    "e = EmptyClass();\n",
    "print(type(e))"
   ]
  },
  {
   "cell_type": "markdown",
   "metadata": {
    "id": "PJafEdcbeOu1"
   },
   "source": [
    "### There are lots of internals and boundary cases for which reading documentation is a good idea.\n",
    "- https://docs.python.org/3/tutorial/classes.html\n",
    "    \n",
    "#### We will focus more on applied aspects in the context of ML/AI."
   ]
  },
  {
   "cell_type": "code",
   "execution_count": 10,
   "metadata": {
    "id": "Q2uCMJgeeOu1"
   },
   "outputs": [],
   "source": [
    "# Class variables shared by all objects\n",
    "\n",
    "# Class: group all variables/attributes and functions/methods into a soingle logical unit\n",
    "\n",
    "class ShortURL1:\n",
    "    \n",
    "    URLPrefix = \"https://www.shortURL.com/\"; # class variable shared by all objects\n",
    "    \n",
    "    def __init__(self): # constructor; not must, but, good to have;  initialize all attributes here\n",
    "        self.d=dict();\n",
    "\n",
    "    # given a long URL, get a short URL\n",
    "    def getShortURL(self, longURL): # first argument to all methods is \"self\" => this object\n",
    "        # length = random value in 6-10\n",
    "        l = random.randint(6,10);\n",
    "        \n",
    "\n",
    "        # generate random characters into a string of length l\n",
    "        chars = string.ascii_lowercase\n",
    "        shortURL = ''.join(random.choice(chars) for i in range(l))\n",
    "        \n",
    "\n",
    "        # check if this string is already present in dict d\n",
    "        if shortURL in self.d:\n",
    "            return getShortURL(longURL);\n",
    "        else:\n",
    "            self.d[shortURL] = longURL;\n",
    "\n",
    "        \n",
    "        r = self.URLPrefix + shortURL\n",
    "        return r;\n",
    "\n",
    "    def getLongURL(self, shortURL):\n",
    "\n",
    "       # print(self.d); # print statemnt for debugging\n",
    "        \n",
    "        # extarct key from URL https://www.shortURL.com/mxzmuis ---> mxzmuis\n",
    "        k = shortURL[25:];\n",
    "        \n",
    "\n",
    "        if k in self.d:\n",
    "            return self.d[k];\n",
    "        else:\n",
    "            return None;\n"
   ]
  },
  {
   "cell_type": "code",
   "execution_count": 11,
   "metadata": {
    "id": "4T6uO4LTeOu2",
    "outputId": "cac6d34a-22a1-486a-ba0d-8ad29eb35bfa"
   },
   "outputs": [
    {
     "name": "stdout",
     "output_type": "stream",
     "text": [
      "https://www.shortURL.com/hjacczvgl\n",
      "https://www.shortURL.com/kziuxeynt\n"
     ]
    }
   ],
   "source": [
    "s1 = ShortURL1();\n",
    "\n",
    "print(s1.getShortURL(\"MachineLearningcourse.com\"))\n",
    "print(s1.getShortURL(\"gate.MachineLearningcourse.com\"))"
   ]
  },
  {
   "cell_type": "code",
   "execution_count": 12,
   "metadata": {
    "id": "cXSmQ2FGeOu2",
    "outputId": "75bd99a0-62a0-474a-fa91-c4a38d9b180a"
   },
   "outputs": [
    {
     "name": "stdout",
     "output_type": "stream",
     "text": [
      "{'hjacczvgl': 'MachineLearningcourse.com', 'kziuxeynt': 'gate.MachineLearningcourse.com'}\n",
      "https://www.shortURL.com/\n"
     ]
    }
   ],
   "source": [
    "print(s1.d)\n",
    "print(s1.URLPrefix)"
   ]
  },
  {
   "cell_type": "code",
   "execution_count": null,
   "metadata": {
    "id": "yEZ4i3OUeOu3",
    "outputId": "cca6710b-f7f5-4dd4-a838-4e3735224345"
   },
   "outputs": [
    {
     "name": "stdout",
     "output_type": "stream",
     "text": [
      "https://www.shortURL.com/\n",
      "{}\n"
     ]
    }
   ],
   "source": [
    "s1a = ShortURL1();\n",
    "print(s1a.URLPrefix);\n",
    "print(s1a.d)"
   ]
  },
  {
   "cell_type": "markdown",
   "metadata": {
    "id": "it1CFoyFeOu3"
   },
   "source": [
    "#### If you have learnt OOP in C++/Java, it is very easy to get confused with syntax and internals. Please beware"
   ]
  },
  {
   "cell_type": "code",
   "execution_count": 7,
   "metadata": {
    "id": "wO36pq2peOu4"
   },
   "outputs": [],
   "source": [
    "\n",
    "# \"Private Members\"\n",
    "\n",
    "# Class: group all variables/attributes and functions/methods into a soingle logical unit\n",
    "\n",
    "class ShortURL2:\n",
    "    \n",
    "    classVar = \"test\"; # Public => accesible directly from outside the class\n",
    "    \n",
    "    #__URLPrefix = \"https://www.shortURL.com/\"; # \"Private\" members. Member => attribute or method\n",
    "    \n",
    "    \n",
    "    \n",
    "    def __init__(self): # constructor; not must, but, good to have;  initialize all attributes here\n",
    "        self.d=dict();\n",
    "        \n",
    "    def private_member(self):\n",
    "        __URLPrefix = \"https://www.shortURL.com/\"\n",
    "        return __URLPrefix\n",
    "\n",
    "    # given a long URL, get a short URL\n",
    "    def getShortURL(self, longURL): # first argument to all methods is \"self\" => this object\n",
    "        # length = random value in 6-10\n",
    "        l = random.randint(6,10);\n",
    "        \n",
    "\n",
    "        # generate random characters into a string of length l\n",
    "        chars = string.ascii_lowercase\n",
    "        shortURL = ''.join(random.choice(chars) for i in range(l))\n",
    "        \n",
    "\n",
    "        # check if this string is already present in dict d\n",
    "        if shortURL in self.d:\n",
    "            return getShortURL(longURL);\n",
    "        else:\n",
    "            self.d[shortURL] = longURL;\n",
    "\n",
    "        \n",
    "        r = self.__URLPrefix + shortURL\n",
    "        return r;\n",
    "\n",
    "    def getLongURL(self, shortURL):\n",
    "\n",
    "       # print(self.d); # print statemnt for debugging\n",
    "        \n",
    "        # extarct key from URL https://www.shortURL.com/mxzmuis ---> mxzmuis\n",
    "        k = shortURL[25:];\n",
    "        \n",
    "\n",
    "        if k in self.d:\n",
    "            return self.d[k];\n",
    "        else:\n",
    "            return None;\n"
   ]
  },
  {
   "cell_type": "code",
   "execution_count": 8,
   "metadata": {
    "id": "jmJXDRbUeOu4",
    "outputId": "c7b2c5e7-ef20-4ad1-a7f2-901f09043eb4"
   },
   "outputs": [
    {
     "data": {
      "text/plain": [
       "'https://www.shortURL.com/'"
      ]
     },
     "execution_count": 8,
     "metadata": {},
     "output_type": "execute_result"
    }
   ],
   "source": [
    "s2 = ShortURL2();\n",
    "#print(s2.classVar)\n",
    "#print(s2.__URLPrefix)\n",
    "s2.private_member()\n"
   ]
  },
  {
   "cell_type": "markdown",
   "metadata": {
    "id": "IuRS0kf-eOu5"
   },
   "source": [
    "### Abstraction: [https://en.wikipedia.org/wiki/Abstraction_principle_(computer_programming)]\n",
    "- As a recommendation to the programmer, in its formulation by Benjamin C. Pierce in Types and Programming Languages (2002), the abstraction principle reads:\n",
    "“\tEach significant piece of functionality in a program should be implemented in just one place in the source code. Where similar functions are carried out by distinct pieces of code, it is generally beneficial to combine them into one by abstracting out the varying parts.\t”\n",
    "- General concept in porgramming: libraries, classes\n",
    "\n",
    "- \"Its main goal is to handle complexity by hiding unnecessary details from the user. That enables the user to implement more complex logic on top of the provided abstraction without understanding or even thinking about all the hidden complexity.\" [Source: https://stackify.com/oop-concept-abstraction/]\n",
    "\n"
   ]
  },
  {
   "cell_type": "markdown",
   "metadata": {
    "id": "Beyot40veOu5"
   },
   "source": [
    "### Encapsulation: [https://en.wikipedia.org/wiki/Encapsulation_(computer_programming)]\n",
    "In object-oriented programming languages, and other related fields, encapsulation refers to one of two related but distinct notions, and sometimes to the combination thereof:\n",
    "\n",
    "1.  A language mechanism for restricting direct access to some of the object's components.\n",
    "2. A language construct that facilitates the bundling of data with the methods (or other functions) operating on that data."
   ]
  },
  {
   "cell_type": "markdown",
   "metadata": {
    "id": "gr0cyOnseOu6"
   },
   "source": [
    "\n",
    "### Design a MyURLShortner built on top of ShortURLFinal (given in a module) with some changes\n",
    "- Change getShortURL to have both alphabets and numbers\n",
    "- Change the URLPrefix to my website (myurlshortner.com)\n",
    "\n",
    "\n"
   ]
  },
  {
   "cell_type": "code",
   "execution_count": 1,
   "metadata": {
    "id": "DyVWRrpXeOu6"
   },
   "outputs": [],
   "source": [
    "# Following is the final implementation of ShortURL in the library\n",
    "import random\n",
    "import string\n",
    "\n",
    "class ShortURLFinal:\n",
    "    \n",
    "    URLPrefix = \"https://www.shortURL.com/\"; # class-variable\n",
    "    \n",
    "    def __init__(self): # constructor; not must, but, good to have;  initialize all attributes here\n",
    "        self.d=dict();\n",
    "\n",
    "    # given a long URL, get a short URL\n",
    "    def getShortURL(self, longURL): # first argument to all methods is \"self\" => this object\n",
    "        # length = random value in 6-10\n",
    "        l = random.randint(6,10);\n",
    "        \n",
    "\n",
    "        # generate random characters into a string of length l\n",
    "        chars = string.ascii_lowercase\n",
    "        shortURL = ''.join(random.choice(chars) for i in range(l))\n",
    "        \n",
    "\n",
    "        # check if this string is already present in dict d\n",
    "        if shortURL in self.d:\n",
    "            return getShortURL(longURL);\n",
    "        else:\n",
    "            self.d[shortURL] = longURL;\n",
    "\n",
    "        \n",
    "        r = self.URLPrefix + shortURL\n",
    "        return r;\n",
    "\n",
    "    def getLongURL(self, shortURL):\n",
    "\n",
    "       # print(self.d); # print statemnt for debugging\n",
    "        \n",
    "        # extarct key from URL https://www.shortURL.com/mxzmuis ---> mxzmuis\n",
    "        k = shortURL[22:];\n",
    "        \n",
    "\n",
    "        if k in self.d:\n",
    "            return self.d[k];\n",
    "        else:\n",
    "            return None;\n"
   ]
  },
  {
   "cell_type": "code",
   "execution_count": 2,
   "metadata": {
    "id": "IMO4lWBNeOu6"
   },
   "outputs": [],
   "source": [
    "# Lets define MyURLShortner based on ShortURLFinal\n",
    "\n",
    "# Inheritence: baseclass, derived class [https://docs.python.org/3/tutorial/classes.html#inheritance]\n",
    "class MyURLShortner(ShortURLFinal):\n",
    "    URLPrefix = \"www.myurlshortner.com/\" # overriding as same name as base-class\n",
    "    \n",
    "    \n",
    "    # given a long URL, get a short URL\n",
    "    def getShortURL(self, longURL): # overriding as same name as base-class, use both digits and lowercase\n",
    "        # length = random value in 6-10\n",
    "        l = random.randint(6,10);\n",
    "        \n",
    "\n",
    "        # generate random characters into a string of length l\n",
    "        chars = string.ascii_lowercase + string.digits # both digits and lowercase\n",
    "        shortURL = ''.join(random.choice(chars) for i in range(l))\n",
    "        \n",
    "\n",
    "        # check if this string is already present in dict d\n",
    "        if shortURL in self.d:\n",
    "            return getShortURL(longURL);\n",
    "        else:\n",
    "            self.d[shortURL] = longURL;\n",
    "\n",
    "        \n",
    "        r = self.URLPrefix + shortURL\n",
    "        return r;\n",
    "    \n",
    "    # getLongURL and dict \"d\" not changed"
   ]
  },
  {
   "cell_type": "code",
   "execution_count": 3,
   "metadata": {
    "id": "ZYWQuyaWeOu7",
    "outputId": "a9e19b62-1c41-45fe-9ae0-5a3a42abe040"
   },
   "outputs": [
    {
     "name": "stdout",
     "output_type": "stream",
     "text": [
      "{}\n"
     ]
    }
   ],
   "source": [
    "m2 = MyURLShortner(); # base-class constructor is executed\n",
    "\n",
    "print(m2.d)\n"
   ]
  },
  {
   "cell_type": "code",
   "execution_count": 4,
   "metadata": {
    "id": "0596oF2leOu7",
    "outputId": "e6819734-49b8-4269-9139-89b8ba530f38"
   },
   "outputs": [
    {
     "name": "stdout",
     "output_type": "stream",
     "text": [
      "www.myurlshortner.com/6pnks2e\n"
     ]
    }
   ],
   "source": [
    "print(m2.getShortURL(\"https://github.com/Nishesh2115/Stock-Prediction-Project\"))\n",
    "#print(m1.getShortURL(\"https://github.com/Nishesh2115/Customer-Churn-Predictions\"))\n"
   ]
  },
  {
   "cell_type": "code",
   "execution_count": 6,
   "metadata": {
    "id": "0lMxO93GeOu7",
    "outputId": "405c6ff8-419c-4828-85e7-c6b63bb87a21"
   },
   "outputs": [
    {
     "name": "stdout",
     "output_type": "stream",
     "text": [
      "https://github.com/Nishesh2115/Stock-Prediction-Project\n"
     ]
    }
   ],
   "source": [
    "print(m2.getLongURL(\"www.myurlshortner.com/6pnks2e\"))"
   ]
  },
  {
   "cell_type": "code",
   "execution_count": 14,
   "metadata": {},
   "outputs": [
    {
     "data": {
      "text/plain": [
       "'i am a private member'"
      ]
     },
     "execution_count": 14,
     "metadata": {},
     "output_type": "execute_result"
    }
   ],
   "source": [
    "class A:\n",
    "   \n",
    "    public_member=\"i am a public member\"\n",
    "    \n",
    "    def abc(self):\n",
    "        __private_member=\"i am a private member\"\n",
    "        return (__private_member)\n",
    "\n",
    "a=A()\n",
    "#a.__private_member\n",
    "a.abc()# by this we can acess the private members indirectly"
   ]
  },
  {
   "cell_type": "code",
   "execution_count": 11,
   "metadata": {
    "id": "g8I9gIFkeOu8",
    "outputId": "c51bf30b-d2e3-4fcd-c632-551331b938ee"
   },
   "outputs": [
    {
     "name": "stdout",
     "output_type": "stream",
     "text": [
      "10\n",
      "20\n",
      "30\n"
     ]
    }
   ],
   "source": [
    "class A:\n",
    "    def __init__(self, i):\n",
    "        \n",
    "        self.var = i\n",
    "        \n",
    "    def printVar(self):\n",
    "        \n",
    "        print(self.var)\n",
    "    \n",
    "    \n",
    "a = A(10);\n",
    "a.printVar()\n",
    "\n",
    "a = A(20);\n",
    "a.printVar()\n",
    "b=A(30)\n",
    "b.printVar()\n",
    "\n",
    "    "
   ]
  },
  {
   "cell_type": "code",
   "execution_count": null,
   "metadata": {
    "id": "49fvQrAOeOu8",
    "outputId": "e7527410-32e4-4f2e-daff-9b2cb6ea81ae"
   },
   "outputs": [
    {
     "name": "stdout",
     "output_type": "stream",
     "text": [
      "<class 'int'>\n"
     ]
    }
   ],
   "source": [
    "a =10;\n",
    "\n",
    "print(type(a))"
   ]
  },
  {
   "cell_type": "code",
   "execution_count": null,
   "metadata": {
    "id": "mzJ_ve3aeOu8"
   },
   "outputs": [],
   "source": [
    "a =20;\n"
   ]
  },
  {
   "cell_type": "code",
   "execution_count": 25,
   "metadata": {
    "id": "Cafyg1k6eOu8",
    "outputId": "bac1588d-648a-4572-ca31-6a130ae71d62"
   },
   "outputs": [
    {
     "name": "stdout",
     "output_type": "stream",
     "text": [
      "Area of rectangle r1: 26.25\n",
      "Perimeter of rectangle r1: 26.0\n",
      "Color of rectangle r1: blue\n",
      "Is rectangle r1 filled ?  False\n",
      "Is rectangle r1 filled ?  True\n",
      "Color of rectangle r1: orange\n",
      "\n",
      "Area of circle c1: 452.39\n",
      "Perimeter of circle c1: 75.40\n",
      "Color of circle c1: pink\n",
      "Is circle c1 filled ?  False\n",
      "Is circle c1 filled ?  True\n",
      "Color of circle c1: blue\n"
     ]
    }
   ],
   "source": [
    "# example from geometry: [Source: https://overiq.com/python-101/inheritance-and-polymorphism-in-python/]\n",
    "import math\n",
    " \n",
    "class Shape:\n",
    " \n",
    "    def __init__(self, color='blue', filled=False):\n",
    "        self.color = color\n",
    "        self.filled = filled\n",
    " \n",
    "    def get_color(self):\n",
    "        return self.color\n",
    " \n",
    "    def set_color(self, color):\n",
    "        self.color = color\n",
    " \n",
    "    def get_filled(self):\n",
    "        return self.filled\n",
    " \n",
    "    def set_filled(self, filled):\n",
    "        self.filled = filled\n",
    " \n",
    " \n",
    "class Rectangle(Shape):\n",
    " \n",
    "    def __init__(self, length, breadth):\n",
    "        #super().__init__()\n",
    "        self.length = length\n",
    "        self.breadth = breadth\n",
    " \n",
    "    def get_length(self):\n",
    "        return self.length\n",
    " \n",
    "    def set_length(self, length):\n",
    "        self.length = length\n",
    " \n",
    "    def get_breadth(self):\n",
    "        return self.breadth\n",
    " \n",
    "    def set_breadth(self, breadth):\n",
    "        self.breadth = breadth\n",
    " \n",
    "    def get_area(self):\n",
    "        return self.length * self.breadth #length value=10.5, breadth value=2.5\n",
    " \n",
    "    def get_perimeter(self):\n",
    "        return 2 * (self.length + self.breadth)#2(10.5+2.5)\n",
    " \n",
    " \n",
    "class Circle(Shape):\n",
    "    def __init__(self, radius):\n",
    "        #super().__init__()\n",
    "        self.radius = radius\n",
    " \n",
    "    def get_radius(self):\n",
    "        return self.radius\n",
    " \n",
    "    def set_radius(self, radius):\n",
    "        self.radius = radius\n",
    " \n",
    "    def get_area(self):\n",
    "        return math.pi * self.radius ** 2\n",
    " \n",
    "    def get_perimeter(self):\n",
    "        return 2 * math.pi * self.radius\n",
    " \n",
    " \n",
    "r1 = Rectangle(10.5, 2.5)\n",
    " \n",
    "print(\"Area of rectangle r1:\", r1.get_area())\n",
    "print(\"Perimeter of rectangle r1:\", r1.get_perimeter())\n",
    "r1.set_color(\"blue\")\n",
    "print(\"Color of rectangle r1:\", r1.get_color())\n",
    "r1.set_filled(False)\n",
    "print(\"Is rectangle r1 filled ? \", r1.get_filled())\n",
    "r1.set_filled(True)\n",
    "print(\"Is rectangle r1 filled ? \", r1.get_filled())\n",
    "r1.set_color(\"orange\")\n",
    "print(\"Color of rectangle r1:\", r1.get_color())\n",
    " \n",
    "c1 = Circle(12)\n",
    " \n",
    "print(\"\\nArea of circle c1:\", format(c1.get_area(), \"0.2f\"))\n",
    "print(\"Perimeter of circle c1:\", format(c1.get_perimeter(), \"0.2f\"))\n",
    "c1.set_color(\"pink\")\n",
    "print(\"Color of circle c1:\", c1.get_color())\n",
    "c1.set_filled(False)\n",
    "print(\"Is circle c1 filled ? \", c1.get_filled())\n",
    "c1.set_filled(True)\n",
    "print(\"Is circle c1 filled ? \", c1.get_filled())\n",
    "c1.set_color(\"blue\")\n",
    "print(\"Color of circle c1:\", c1.get_color())"
   ]
  },
  {
   "cell_type": "code",
   "execution_count": 19,
   "metadata": {
    "id": "wzI60hyBeOu9"
   },
   "outputs": [
    {
     "data": {
      "text/plain": [
       "'black'"
      ]
     },
     "execution_count": 19,
     "metadata": {},
     "output_type": "execute_result"
    }
   ],
   "source": [
    "class Shape:\n",
    " \n",
    "    def __init__(self, color='black', filled=False):\n",
    "        self.color = color\n",
    "        self.filled = filled\n",
    " \n",
    "    def get_color(self):\n",
    "        return self.color\n",
    " \n",
    "    def set_color(self, color):\n",
    "        self.color = color\n",
    " \n",
    "    def get_filled(self):\n",
    "        return self.filled\n",
    " \n",
    "    def set_filled(self, filled):\n",
    "        self.filled = filled\n",
    "s=Shape()\n",
    "s.set_color('orange')\n",
    "\n",
    "a=Shape()\n",
    "a.get_color()"
   ]
  },
  {
   "cell_type": "code",
   "execution_count": null,
   "metadata": {
    "id": "gfQ9z5CZeOu9"
   },
   "outputs": [],
   "source": [
    "### object is the base class for all classes in Python\n",
    " \n",
    "class MyClass(object): # object is the base-class by default and implicitly.\n",
    "    pass\n",
    "\n",
    "\n",
    "# __new__() : creates a new object and calls the __init__()\n",
    "# __init__() : default constructor\n",
    "# __str__() : write code to convert object into string for printing."
   ]
  },
  {
   "cell_type": "code",
   "execution_count": null,
   "metadata": {
    "id": "yeRcqY7QeOu_",
    "outputId": "3f91906d-fe31-4816-8bd9-d87800b5169b"
   },
   "outputs": [
    {
     "name": "stdout",
     "output_type": "stream",
     "text": [
      "<class 'list'>\n",
      "[1, 2, 3, 4]\n"
     ]
    }
   ],
   "source": [
    "a = [1,2,3,4];\n",
    "print(type(a))\n",
    "\n",
    "print(a)"
   ]
  },
  {
   "cell_type": "code",
   "execution_count": null,
   "metadata": {
    "id": "0nxUTWq1eOu_",
    "outputId": "c910daef-996a-4765-d225-ecdda686fcc6"
   },
   "outputs": [
    {
     "name": "stdout",
     "output_type": "stream",
     "text": [
      "any string representation of the object of this class that we want\n"
     ]
    }
   ],
   "source": [
    "class ClassWithStr(): #default object is the base class\n",
    "    def __str__(self):\n",
    "        return \"any string representation of the object of this class that we want\"\n",
    "    \n",
    "c1 = ClassWithStr();\n",
    "print(c1)"
   ]
  },
  {
   "cell_type": "markdown",
   "metadata": {
    "id": "QyT6nQSzeOvA"
   },
   "source": [
    "### Example: https://matplotlib.org/3.1.1/api/axis_api.html\n",
    "\n"
   ]
  },
  {
   "cell_type": "code",
   "execution_count": 27,
   "metadata": {
    "id": "ML8Xi1yoeOvA"
   },
   "outputs": [],
   "source": [
    "import math\n",
    " \n",
    "class Shape:\n",
    " \n",
    "    def __init__(self, color='black', filled=False):\n",
    "        self.__color = color\n",
    "        self.__filled = filled\n",
    " \n",
    "    def get_color(self):\n",
    "        return self.__color\n",
    " \n",
    "    def set_color(self, color):\n",
    "        self.__color = color\n",
    " \n",
    "    def get_filled(self):\n",
    "        return self.__filled\n",
    " \n",
    "    def set_filled(self, filled):\n",
    "        self.__filled = filled\n",
    " "
   ]
  },
  {
   "cell_type": "code",
   "execution_count": 28,
   "metadata": {},
   "outputs": [],
   "source": [
    "s=Shape()\n",
    "d=Shape()"
   ]
  },
  {
   "cell_type": "code",
   "execution_count": 29,
   "metadata": {},
   "outputs": [
    {
     "data": {
      "text/plain": [
       "'black'"
      ]
     },
     "execution_count": 29,
     "metadata": {},
     "output_type": "execute_result"
    }
   ],
   "source": [
    "s.get_color()"
   ]
  },
  {
   "cell_type": "code",
   "execution_count": 30,
   "metadata": {},
   "outputs": [
    {
     "data": {
      "text/plain": [
       "'black'"
      ]
     },
     "execution_count": 30,
     "metadata": {},
     "output_type": "execute_result"
    }
   ],
   "source": [
    "d.get_color()"
   ]
  },
  {
   "cell_type": "code",
   "execution_count": 31,
   "metadata": {},
   "outputs": [
    {
     "data": {
      "text/plain": [
       "False"
      ]
     },
     "execution_count": 31,
     "metadata": {},
     "output_type": "execute_result"
    }
   ],
   "source": [
    "s.get_filled()"
   ]
  },
  {
   "cell_type": "code",
   "execution_count": 32,
   "metadata": {},
   "outputs": [
    {
     "data": {
      "text/plain": [
       "False"
      ]
     },
     "execution_count": 32,
     "metadata": {},
     "output_type": "execute_result"
    }
   ],
   "source": [
    "d.get_filled()"
   ]
  },
  {
   "cell_type": "code",
   "execution_count": 33,
   "metadata": {},
   "outputs": [],
   "source": [
    "s.set_color(\"blue\")"
   ]
  },
  {
   "cell_type": "code",
   "execution_count": 34,
   "metadata": {},
   "outputs": [
    {
     "data": {
      "text/plain": [
       "'blue'"
      ]
     },
     "execution_count": 34,
     "metadata": {},
     "output_type": "execute_result"
    }
   ],
   "source": [
    "s.get_color()"
   ]
  },
  {
   "cell_type": "code",
   "execution_count": 35,
   "metadata": {},
   "outputs": [
    {
     "data": {
      "text/plain": [
       "'black'"
      ]
     },
     "execution_count": 35,
     "metadata": {},
     "output_type": "execute_result"
    }
   ],
   "source": [
    "d.get_color()"
   ]
  },
  {
   "cell_type": "code",
   "execution_count": 12,
   "metadata": {},
   "outputs": [],
   "source": [
    "d.set_color(\"purple\")"
   ]
  },
  {
   "cell_type": "code",
   "execution_count": 13,
   "metadata": {},
   "outputs": [
    {
     "data": {
      "text/plain": [
       "'purple'"
      ]
     },
     "execution_count": 13,
     "metadata": {},
     "output_type": "execute_result"
    }
   ],
   "source": [
    "d.get_color()"
   ]
  },
  {
   "cell_type": "code",
   "execution_count": 14,
   "metadata": {},
   "outputs": [
    {
     "data": {
      "text/plain": [
       "'blue'"
      ]
     },
     "execution_count": 14,
     "metadata": {},
     "output_type": "execute_result"
    }
   ],
   "source": [
    "s.get_color()"
   ]
  },
  {
   "cell_type": "code",
   "execution_count": 36,
   "metadata": {},
   "outputs": [
    {
     "name": "stdout",
     "output_type": "stream",
     "text": [
      "<class 'list'>\n"
     ]
    }
   ],
   "source": [
    "list1=[1,2,3]\n",
    "print(type(list1))"
   ]
  },
  {
   "cell_type": "code",
   "execution_count": null,
   "metadata": {},
   "outputs": [],
   "source": []
  }
 ],
 "metadata": {
  "celltoolbar": "Slideshow",
  "colab": {
   "name": "LIVE_OOP_Basics_Python_I.ipynb",
   "provenance": []
  },
  "kernelspec": {
   "display_name": "Python 3",
   "language": "python",
   "name": "python3"
  },
  "language_info": {
   "codemirror_mode": {
    "name": "ipython",
    "version": 3
   },
   "file_extension": ".py",
   "mimetype": "text/x-python",
   "name": "python",
   "nbconvert_exporter": "python",
   "pygments_lexer": "ipython3",
   "version": "3.8.8"
  }
 },
 "nbformat": 4,
 "nbformat_minor": 1
}
